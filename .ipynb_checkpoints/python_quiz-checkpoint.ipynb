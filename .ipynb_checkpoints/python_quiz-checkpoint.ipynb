{
 "cells": [
  {
   "cell_type": "code",
   "execution_count": 1,
   "id": "08fd7c38",
   "metadata": {},
   "outputs": [],
   "source": [
    "import pandas as pd\n",
    "import numpy as np"
   ]
  },
  {
   "cell_type": "code",
   "execution_count": 2,
   "id": "49659ed9",
   "metadata": {},
   "outputs": [],
   "source": [
    "#Importing Data\n",
    "\n",
    "dataFile = pd.read_csv('https://raw.githubusercontent.com/WalePhenomenon/climate_change/master/fuel_ferc1.csv')"
   ]
  },
  {
   "cell_type": "code",
   "execution_count": 3,
   "id": "fc91e240",
   "metadata": {},
   "outputs": [
    {
     "data": {
      "text/html": [
       "<div>\n",
       "<style scoped>\n",
       "    .dataframe tbody tr th:only-of-type {\n",
       "        vertical-align: middle;\n",
       "    }\n",
       "\n",
       "    .dataframe tbody tr th {\n",
       "        vertical-align: top;\n",
       "    }\n",
       "\n",
       "    .dataframe thead th {\n",
       "        text-align: right;\n",
       "    }\n",
       "</style>\n",
       "<table border=\"1\" class=\"dataframe\">\n",
       "  <thead>\n",
       "    <tr style=\"text-align: right;\">\n",
       "      <th></th>\n",
       "      <th>record_id</th>\n",
       "      <th>utility_id_ferc1</th>\n",
       "      <th>report_year</th>\n",
       "      <th>plant_name_ferc1</th>\n",
       "      <th>fuel_type_code_pudl</th>\n",
       "      <th>fuel_unit</th>\n",
       "      <th>fuel_qty_burned</th>\n",
       "      <th>fuel_mmbtu_per_unit</th>\n",
       "      <th>fuel_cost_per_unit_burned</th>\n",
       "      <th>fuel_cost_per_unit_delivered</th>\n",
       "      <th>fuel_cost_per_mmbtu</th>\n",
       "    </tr>\n",
       "  </thead>\n",
       "  <tbody>\n",
       "    <tr>\n",
       "      <th>0</th>\n",
       "      <td>f1_fuel_1994_12_1_0_7</td>\n",
       "      <td>1</td>\n",
       "      <td>1994</td>\n",
       "      <td>rockport</td>\n",
       "      <td>coal</td>\n",
       "      <td>ton</td>\n",
       "      <td>5377489.0</td>\n",
       "      <td>16.590</td>\n",
       "      <td>18.59</td>\n",
       "      <td>18.53</td>\n",
       "      <td>1.121</td>\n",
       "    </tr>\n",
       "    <tr>\n",
       "      <th>1</th>\n",
       "      <td>f1_fuel_1994_12_1_0_10</td>\n",
       "      <td>1</td>\n",
       "      <td>1994</td>\n",
       "      <td>rockport total plant</td>\n",
       "      <td>coal</td>\n",
       "      <td>ton</td>\n",
       "      <td>10486945.0</td>\n",
       "      <td>16.592</td>\n",
       "      <td>18.58</td>\n",
       "      <td>18.53</td>\n",
       "      <td>1.120</td>\n",
       "    </tr>\n",
       "    <tr>\n",
       "      <th>2</th>\n",
       "      <td>f1_fuel_1994_12_2_0_1</td>\n",
       "      <td>2</td>\n",
       "      <td>1994</td>\n",
       "      <td>gorgas</td>\n",
       "      <td>coal</td>\n",
       "      <td>ton</td>\n",
       "      <td>2978683.0</td>\n",
       "      <td>24.130</td>\n",
       "      <td>39.72</td>\n",
       "      <td>38.12</td>\n",
       "      <td>1.650</td>\n",
       "    </tr>\n",
       "    <tr>\n",
       "      <th>3</th>\n",
       "      <td>f1_fuel_1994_12_2_0_7</td>\n",
       "      <td>2</td>\n",
       "      <td>1994</td>\n",
       "      <td>barry</td>\n",
       "      <td>coal</td>\n",
       "      <td>ton</td>\n",
       "      <td>3739484.0</td>\n",
       "      <td>23.950</td>\n",
       "      <td>47.21</td>\n",
       "      <td>45.99</td>\n",
       "      <td>1.970</td>\n",
       "    </tr>\n",
       "    <tr>\n",
       "      <th>4</th>\n",
       "      <td>f1_fuel_1994_12_2_0_10</td>\n",
       "      <td>2</td>\n",
       "      <td>1994</td>\n",
       "      <td>chickasaw</td>\n",
       "      <td>gas</td>\n",
       "      <td>mcf</td>\n",
       "      <td>40533.0</td>\n",
       "      <td>1.000</td>\n",
       "      <td>2.77</td>\n",
       "      <td>2.77</td>\n",
       "      <td>2.570</td>\n",
       "    </tr>\n",
       "  </tbody>\n",
       "</table>\n",
       "</div>"
      ],
      "text/plain": [
       "                record_id  utility_id_ferc1  report_year  \\\n",
       "0   f1_fuel_1994_12_1_0_7                 1         1994   \n",
       "1  f1_fuel_1994_12_1_0_10                 1         1994   \n",
       "2   f1_fuel_1994_12_2_0_1                 2         1994   \n",
       "3   f1_fuel_1994_12_2_0_7                 2         1994   \n",
       "4  f1_fuel_1994_12_2_0_10                 2         1994   \n",
       "\n",
       "       plant_name_ferc1 fuel_type_code_pudl fuel_unit  fuel_qty_burned  \\\n",
       "0              rockport                coal       ton        5377489.0   \n",
       "1  rockport total plant                coal       ton       10486945.0   \n",
       "2                gorgas                coal       ton        2978683.0   \n",
       "3                 barry                coal       ton        3739484.0   \n",
       "4             chickasaw                 gas       mcf          40533.0   \n",
       "\n",
       "   fuel_mmbtu_per_unit  fuel_cost_per_unit_burned  \\\n",
       "0               16.590                      18.59   \n",
       "1               16.592                      18.58   \n",
       "2               24.130                      39.72   \n",
       "3               23.950                      47.21   \n",
       "4                1.000                       2.77   \n",
       "\n",
       "   fuel_cost_per_unit_delivered  fuel_cost_per_mmbtu  \n",
       "0                         18.53                1.121  \n",
       "1                         18.53                1.120  \n",
       "2                         38.12                1.650  \n",
       "3                         45.99                1.970  \n",
       "4                          2.77                2.570  "
      ]
     },
     "execution_count": 3,
     "metadata": {},
     "output_type": "execute_result"
    }
   ],
   "source": [
    "dataFile[:5]"
   ]
  },
  {
   "cell_type": "code",
   "execution_count": 4,
   "id": "b22555d1",
   "metadata": {},
   "outputs": [
    {
     "name": "stdout",
     "output_type": "stream",
     "text": [
      "Question 1\n",
      "[1, 2, 3, 4, 5, 6, 13, 21, 34]\n"
     ]
    }
   ],
   "source": [
    "print('Question 1')\n",
    "\n",
    "A = [1, 2, 3, 4, 5, 6]\n",
    "B = [13, 21, 34]\n",
    "\n",
    "A.extend(B)\n",
    "print(A)"
   ]
  },
  {
   "cell_type": "code",
   "execution_count": 5,
   "id": "7d341efa",
   "metadata": {},
   "outputs": [
    {
     "name": "stdout",
     "output_type": "stream",
     "text": [
      "Question 2\n",
      "[[1. 0. 0.]\n",
      " [0. 1. 0.]\n",
      " [0. 0. 1.]]\n"
     ]
    }
   ],
   "source": [
    "print('Question 2')\n",
    "\n",
    "print(np.identity(3))"
   ]
  },
  {
   "cell_type": "code",
   "execution_count": 6,
   "id": "5a739f82",
   "metadata": {},
   "outputs": [
    {
     "name": "stdout",
     "output_type": "stream",
     "text": [
      "Question 3\n",
      "fuel_type_code_pudl\n",
      "gas    13.659397\n",
      "Name: fuel_cost_per_unit_burned, dtype: float64\n"
     ]
    }
   ],
   "source": [
    "print('Question 3')\n",
    "\n",
    "avgData = dataFile.groupby('fuel_type_code_pudl')['fuel_cost_per_unit_burned'].mean()\n",
    "print(avgData.sort_values()[:1])"
   ]
  },
  {
   "cell_type": "code",
   "execution_count": 7,
   "id": "104b4701",
   "metadata": {},
   "outputs": [
    {
     "name": "stdout",
     "output_type": "stream",
     "text": [
      "Question 4\n",
      "Standard Deviation =  10.600220307806886\n",
      "75th Percentile =  17.01\n"
     ]
    }
   ],
   "source": [
    "print('Question 4')\n",
    "\n",
    "print('Standard Deviation = ', dataFile.fuel_mmbtu_per_unit.std())\n",
    "print('75th Percentile = ', dataFile.fuel_mmbtu_per_unit.quantile(q=.75).round(2))"
   ]
  },
  {
   "cell_type": "code",
   "execution_count": 8,
   "id": "8c3175e4",
   "metadata": {},
   "outputs": [
    {
     "name": "stdout",
     "output_type": "stream",
     "text": [
      "Question 5\n",
      "Skewness =  15.85\n",
      "Kurtosis =  651.37\n"
     ]
    }
   ],
   "source": [
    "print('Question 5')\n",
    "\n",
    "print('Skewness = ', dataFile.fuel_qty_burned.skew().round(2))\n",
    "print('Kurtosis = ', dataFile.fuel_qty_burned.kurtosis().round(2))"
   ]
  },
  {
   "cell_type": "code",
   "execution_count": 9,
   "id": "683326c7",
   "metadata": {},
   "outputs": [
    {
     "name": "stdout",
     "output_type": "stream",
     "text": [
      "Question 6\n",
      "record_id                         0\n",
      "utility_id_ferc1                  0\n",
      "report_year                       0\n",
      "plant_name_ferc1                  0\n",
      "fuel_type_code_pudl               0\n",
      "fuel_unit                       180\n",
      "fuel_qty_burned                   0\n",
      "fuel_mmbtu_per_unit               0\n",
      "fuel_cost_per_unit_burned         0\n",
      "fuel_cost_per_unit_delivered      0\n",
      "fuel_cost_per_mmbtu               0\n",
      "dtype: int64\n",
      "Percentage =  0.61\n"
     ]
    }
   ],
   "source": [
    "print('Question 6')\n",
    "\n",
    "print(dataFile.isnull().sum())\n",
    "print('Percentage = ', (dataFile.fuel_unit.isnull().sum() * 100 / dataFile.shape[0]).round(3))"
   ]
  },
  {
   "cell_type": "code",
   "execution_count": 10,
   "id": "349290ac",
   "metadata": {},
   "outputs": [
    {
     "name": "stdout",
     "output_type": "stream",
     "text": [
      "Question 8\n",
      "fuel_qty_burned       -0.018535\n",
      "fuel_mmbtu_per_unit   -0.010034\n",
      "Name: fuel_cost_per_unit_burned, dtype: float64\n"
     ]
    }
   ],
   "source": [
    "print('Question 8')\n",
    "\n",
    "sortedData = dataFile.corr()['fuel_cost_per_unit_burned'].sort_values()\n",
    "print(sortedData[1:3])"
   ]
  },
  {
   "cell_type": "code",
   "execution_count": 11,
   "id": "79f1a9eb",
   "metadata": {},
   "outputs": [
    {
     "name": "stdout",
     "output_type": "stream",
     "text": [
      "Question 9\n",
      "Percent Change =  -21.0\n"
     ]
    }
   ],
   "source": [
    "print('Question 9')\n",
    "\n",
    "grpData = dataFile.groupby(['fuel_type_code_pudl','report_year']).fuel_cost_per_unit_burned.sum()\n",
    "grpData = grpData.loc['coal']\n",
    "\n",
    "yr1998 = grpData[1998]\n",
    "yr1994 = grpData[1994]\n",
    "\n",
    "print('Percent Change = ', (((yr1998 - yr1994) * 100) / yr1994).round())"
   ]
  },
  {
   "cell_type": "code",
   "execution_count": 12,
   "id": "cf40680d",
   "metadata": {},
   "outputs": [
    {
     "name": "stdout",
     "output_type": "stream",
     "text": [
      "Question 10\n",
      "report_year\n",
      "1997    11140.197239\n",
      "Name: fuel_cost_per_unit_delivered, dtype: float64\n"
     ]
    }
   ],
   "source": [
    "print('Question 10')\n",
    "\n",
    "sortedData = dataFile.groupby(['report_year'])['fuel_cost_per_unit_delivered'].mean().sort_values(ascending=False)\n",
    "print(sortedData[:1])"
   ]
  }
 ],
 "metadata": {
  "kernelspec": {
   "display_name": "Python 3",
   "language": "python",
   "name": "python3"
  },
  "language_info": {
   "codemirror_mode": {
    "name": "ipython",
    "version": 3
   },
   "file_extension": ".py",
   "mimetype": "text/x-python",
   "name": "python",
   "nbconvert_exporter": "python",
   "pygments_lexer": "ipython3",
   "version": "3.8.8"
  }
 },
 "nbformat": 4,
 "nbformat_minor": 5
}
